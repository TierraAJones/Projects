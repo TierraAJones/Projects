{
 "cells": [
  {
   "cell_type": "code",
   "execution_count": 1,
   "id": "eecf08ae-8f7f-4c9b-b12b-160a529e2560",
   "metadata": {},
   "outputs": [],
   "source": [
    "import pandas as pd"
   ]
  },
  {
   "cell_type": "code",
   "execution_count": 3,
   "id": "b60d6552-24fa-4032-90ea-e08a3f4691f6",
   "metadata": {},
   "outputs": [],
   "source": [
    "df = pd.read_csv('bestsellers.csv')"
   ]
  },
  {
   "cell_type": "markdown",
   "id": "3c514bdf-ebdf-4697-bbdd-a023f6f2e02a",
   "metadata": {},
   "source": [
    "Explore the Data"
   ]
  },
  {
   "cell_type": "code",
   "execution_count": 5,
   "id": "5ca5f83d-9d00-439c-b0d9-17f12c0ea245",
   "metadata": {},
   "outputs": [
    {
     "name": "stdout",
     "output_type": "stream",
     "text": [
      "                                                Name  \\\n",
      "0                      10-Day Green Smoothie Cleanse   \n",
      "1                                  11/22/63: A Novel   \n",
      "2            12 Rules for Life: An Antidote to Chaos   \n",
      "3                             1984 (Signet Classics)   \n",
      "4  5,000 Awesome Facts (About Everything!) (Natio...   \n",
      "\n",
      "                     Author  User Rating  Reviews  Price  Year        Genre  \n",
      "0                  JJ Smith          4.7    17350      8  2016  Non Fiction  \n",
      "1              Stephen King          4.6     2052     22  2011      Fiction  \n",
      "2        Jordan B. Peterson          4.7    18979     15  2018  Non Fiction  \n",
      "3             George Orwell          4.7    21424      6  2017      Fiction  \n",
      "4  National Geographic Kids          4.8     7665     12  2019  Non Fiction  \n"
     ]
    }
   ],
   "source": [
    "print(df.head())"
   ]
  },
  {
   "cell_type": "markdown",
   "id": "cd6ff053-741c-4133-957d-2d8801769669",
   "metadata": {},
   "source": [
    "Shape of the spreadsheet"
   ]
  },
  {
   "cell_type": "code",
   "execution_count": 7,
   "id": "9767b0d7-78fd-4b2c-8f5c-a04138bd707f",
   "metadata": {},
   "outputs": [
    {
     "name": "stdout",
     "output_type": "stream",
     "text": [
      "(550, 7)\n"
     ]
    }
   ],
   "source": [
    "print(df.shape)"
   ]
  },
  {
   "cell_type": "markdown",
   "id": "6bdca7e8-e12f-4eed-af1a-11e3bfb955d2",
   "metadata": {},
   "source": [
    "Column names of the spreadsheet"
   ]
  },
  {
   "cell_type": "code",
   "execution_count": 9,
   "id": "ca87b457-fa6d-4512-b94a-1ea56ff7bc79",
   "metadata": {},
   "outputs": [
    {
     "name": "stdout",
     "output_type": "stream",
     "text": [
      "Index(['Name', 'Author', 'User Rating', 'Reviews', 'Price', 'Year', 'Genre'], dtype='object')\n"
     ]
    }
   ],
   "source": [
    "print(df.columns)"
   ]
  },
  {
   "cell_type": "markdown",
   "id": "fbd2464d-1baa-41c3-a92e-cc85eeb537df",
   "metadata": {},
   "source": [
    "Summary"
   ]
  },
  {
   "cell_type": "code",
   "execution_count": 13,
   "id": "eeb5fd01-fe18-46cb-a90a-04533287ee28",
   "metadata": {},
   "outputs": [
    {
     "name": "stdout",
     "output_type": "stream",
     "text": [
      "       User Rating       Reviews       Price         Year\n",
      "count   550.000000    550.000000  550.000000   550.000000\n",
      "mean      4.618364  11953.281818   13.100000  2014.000000\n",
      "std       0.226980  11731.132017   10.842262     3.165156\n",
      "min       3.300000     37.000000    0.000000  2009.000000\n",
      "25%       4.500000   4058.000000    7.000000  2011.000000\n",
      "50%       4.700000   8580.000000   11.000000  2014.000000\n",
      "75%       4.800000  17253.250000   16.000000  2017.000000\n",
      "max       4.900000  87841.000000  105.000000  2019.000000\n"
     ]
    }
   ],
   "source": [
    "print(df.describe())"
   ]
  },
  {
   "cell_type": "markdown",
   "id": "fcffe6c2-3359-4555-8fe1-51a66d773064",
   "metadata": {},
   "source": [
    "Clean the Data"
   ]
  },
  {
   "cell_type": "markdown",
   "id": "662d2845-f71c-4b0d-aef5-ddc28dcefc85",
   "metadata": {},
   "source": [
    "Drop the Duplicates"
   ]
  },
  {
   "cell_type": "code",
   "execution_count": 15,
   "id": "fef86bab-64d7-4e57-b0fa-096c738b121c",
   "metadata": {},
   "outputs": [],
   "source": [
    "df.drop_duplicates(inplace=True)"
   ]
  },
  {
   "cell_type": "markdown",
   "id": "822252db-d92b-4ffe-accc-cfc475d81a70",
   "metadata": {},
   "source": [
    "Renaming Columns"
   ]
  },
  {
   "cell_type": "code",
   "execution_count": 17,
   "id": "d2e0a8e0-894f-4ee9-aa9a-f72c439d41a0",
   "metadata": {},
   "outputs": [],
   "source": [
    "df.rename(columns={\"Name\": \"Title\", \"Year\": \"Publication Year\", \"User Rating\": \"Rating\"}, inplace=True)"
   ]
  },
  {
   "cell_type": "markdown",
   "id": "46a3d94d-1064-4e03-8d9f-61db84f391af",
   "metadata": {},
   "source": [
    "Converting Data Types"
   ]
  },
  {
   "cell_type": "code",
   "execution_count": 21,
   "id": "d015645f-19b6-4ef6-9dc4-0f5a9ff93285",
   "metadata": {},
   "outputs": [],
   "source": [
    "df[\"Price\"] = df[\"Price\"].astype(float)"
   ]
  },
  {
   "cell_type": "markdown",
   "id": "1c8e17c8-a383-4d7c-a7bb-9f8d38399a38",
   "metadata": {},
   "source": [
    "Running an Analysis/Analyzing Author Popularity"
   ]
  },
  {
   "cell_type": "code",
   "execution_count": 23,
   "id": "c01afbca-b8ff-40c7-9029-84636ea5127b",
   "metadata": {},
   "outputs": [
    {
     "name": "stdout",
     "output_type": "stream",
     "text": [
      "Author\n",
      "Jeff Kinney                           12\n",
      "Gary Chapman                          11\n",
      "Rick Riordan                          11\n",
      "Suzanne Collins                       11\n",
      "American Psychological Association    10\n",
      "                                      ..\n",
      "Keith Richards                         1\n",
      "Chris Cleave                           1\n",
      "Alice Schertle                         1\n",
      "Celeste Ng                             1\n",
      "Adam Gasiewski                         1\n",
      "Name: count, Length: 248, dtype: int64\n"
     ]
    }
   ],
   "source": [
    "author_counts = df['Author'].value_counts()\n",
    "print(author_counts)"
   ]
  },
  {
   "cell_type": "markdown",
   "id": "20f8b587-161a-4b0c-b770-d856bd187ce8",
   "metadata": {},
   "source": [
    "Average Rating by Genre"
   ]
  },
  {
   "cell_type": "code",
   "execution_count": 25,
   "id": "d64f8a24-cbf0-4d69-b3dd-92d0bf2614e0",
   "metadata": {},
   "outputs": [
    {
     "name": "stdout",
     "output_type": "stream",
     "text": [
      "Genre\n",
      "Fiction        4.648333\n",
      "Non Fiction    4.595161\n",
      "Name: Rating, dtype: float64\n"
     ]
    }
   ],
   "source": [
    "avg_rating_by_genre = df.groupby(\"Genre\")[\"Rating\"].mean()\n",
    "print(avg_rating_by_genre)"
   ]
  },
  {
   "cell_type": "markdown",
   "id": "2773a48c-b95e-4755-ae1a-a5cf876ac4f4",
   "metadata": {},
   "source": [
    "Exporting the Results"
   ]
  },
  {
   "cell_type": "code",
   "execution_count": 39,
   "id": "2e27e5fe-3fd1-4992-82ab-8ef5f7508743",
   "metadata": {},
   "outputs": [],
   "source": [
    "author_counts.head(10).to_csv(\"top_authors.csv\")\n",
    "avg_rating_by_genre.to_csv(\"avg_rating_by_genre.csv\")"
   ]
  }
 ],
 "metadata": {
  "kernelspec": {
   "display_name": "Python 3 (ipykernel)",
   "language": "python",
   "name": "python3"
  },
  "language_info": {
   "codemirror_mode": {
    "name": "ipython",
    "version": 3
   },
   "file_extension": ".py",
   "mimetype": "text/x-python",
   "name": "python",
   "nbconvert_exporter": "python",
   "pygments_lexer": "ipython3",
   "version": "3.11.7"
  }
 },
 "nbformat": 4,
 "nbformat_minor": 5
}
